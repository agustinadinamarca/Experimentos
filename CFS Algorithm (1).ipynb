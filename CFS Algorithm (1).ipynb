{
 "cells": [
  {
   "cell_type": "code",
   "execution_count": 19,
   "metadata": {
    "ExecuteTime": {
     "end_time": "2020-10-30T18:17:45.794087Z",
     "start_time": "2020-10-30T18:17:45.435012Z"
    }
   },
   "outputs": [],
   "source": [
    "import networkx as nx\n",
    "\n",
    "from networkx.algorithms.approximation import max_clique"
   ]
  },
  {
   "cell_type": "code",
   "execution_count": null,
   "metadata": {},
   "outputs": [],
   "source": [
    "# andar libreria maximum click, construyo grafos poniendo arista entre par de arng no en conflicto"
   ]
  },
  {
   "cell_type": "code",
   "execution_count": 21,
   "metadata": {
    "ExecuteTime": {
     "end_time": "2020-10-30T18:18:08.624668Z",
     "start_time": "2020-10-30T18:18:08.602984Z"
    }
   },
   "outputs": [
    {
     "data": {
      "text/plain": [
       "{'A', 'C', 'D'}"
      ]
     },
     "execution_count": 21,
     "metadata": {},
     "output_type": "execute_result"
    }
   ],
   "source": [
    "# creo grafo\n",
    "G = nx.Graph()\n",
    "# nodos (argumentos)\n",
    "N = [\"A\", \"B\", \"C\", \"D\"]\n",
    "G.add_nodes_from(N)\n",
    "# aristas (ataques)\n",
    "A = [(\"A\", \"B\"), (\"C\", \"B\")]\n",
    "NA = [(\"A\", \"C\"), (\"A\", \"D\"), (\"B\", \"D\"), (\"C\", \"D\"), (\"A\", \"A\"), (\"B\", \"B\"), (\"C\", \"C\"), (\"D\", \"D\")]\n",
    "G.add_edges_from(NA)\n",
    "\n",
    "max_clique(G)\n",
    "#c = nx.find_cliques(G)\n",
    "#for i in c:\n",
    "#   print(i)\n",
    "\n",
    "#print(nx.make_max_clique_graph(G))"
   ]
  },
  {
   "cell_type": "code",
   "execution_count": 16,
   "metadata": {
    "ExecuteTime": {
     "end_time": "2020-10-30T17:27:11.121367Z",
     "start_time": "2020-10-30T17:27:11.109278Z"
    }
   },
   "outputs": [
    {
     "name": "stdout",
     "output_type": "stream",
     "text": [
      "end\n",
      "[{'A'}, {'B'}, {'C'}, {'D'}]\n",
      "end\n",
      "[{'C', 'A'}, {'A', 'D'}, {'B', 'D'}, {'C', 'D'}]\n",
      "end\n",
      "[{'B', 'D'}, {'C', 'A', 'D'}]\n"
     ]
    },
    {
     "data": {
      "text/plain": [
       "[{'A'},\n",
       " {'B'},\n",
       " {'C'},\n",
       " {'D'},\n",
       " {'A', 'C'},\n",
       " {'A', 'D'},\n",
       " {'B', 'D'},\n",
       " {'C', 'D'},\n",
       " {'A', 'C', 'D'},\n",
       " ()]"
      ]
     },
     "execution_count": 16,
     "metadata": {},
     "output_type": "execute_result"
    }
   ],
   "source": [
    "CFS(N, A)"
   ]
  },
  {
   "cell_type": "markdown",
   "metadata": {},
   "source": [
    "# Algoritmo CFS"
   ]
  },
  {
   "cell_type": "code",
   "execution_count": 9,
   "metadata": {
    "ExecuteTime": {
     "end_time": "2020-10-30T17:22:42.126280Z",
     "start_time": "2020-10-30T17:22:42.089115Z"
    }
   },
   "outputs": [],
   "source": [
    "def CFS(V, R):\n",
    "    global pairs\n",
    "    pairs = []\n",
    "\n",
    "    CCCF = []\n",
    "    \n",
    "    for e in V:\n",
    "        CCCF.append({e})\n",
    "    \n",
    "    CCCFp = []\n",
    "    TOTALES = []\n",
    "    \n",
    "    for e in CCCF:\n",
    "        TOTALES.append(e)\n",
    "\n",
    "    while(CCCF != CCCFp):\n",
    "\n",
    "        S = []\n",
    "        for e in CCCF:\n",
    "            S.append(e)\n",
    "            \n",
    "        CCCFp = iterative_step(CCCF, R)\n",
    "\n",
    "        for c in CCCFp:\n",
    "            if c not in TOTALES:\n",
    "                TOTALES.append(c)\n",
    "                \n",
    "        t = CCCFp\n",
    "        CCCFp = S       \n",
    "        CCCF = t\n",
    "        print(CCCFp)\n",
    "    TOTALES.append(())\n",
    "    return TOTALES\n",
    "\n",
    "\n",
    "def iterative_step(CCCF, R):\n",
    "    # conjunto de pares de subconjuntos de CCCF\n",
    "    SPairs = []   \n",
    "    K = CCCF\n",
    "    \n",
    "    for S1 in K:\n",
    "        for S2 in K:\n",
    "            if S1 != S2:\n",
    "                SPairs.append([S1, S2])\n",
    "            else:\n",
    "                break;\n",
    "                \n",
    "    for SS in SPairs:\n",
    "        if [SS[0], SS[1]] not in pairs and [SS[1], SS[0]] not in pairs:\n",
    "            if isConflictFree(SS[0], SS[1], R):\n",
    "                if SS[0] in K:\n",
    "                    K.remove(SS[0])\n",
    "                if SS[1] in K:\n",
    "                    K.remove(SS[1])\n",
    "                if SS[0].union(SS[1]) not in K:\n",
    "                    K.append(SS[0].union(SS[1]))\n",
    "            else:\n",
    "                pairs.append([SS[0], SS[1]])\n",
    "    print(\"end\")\n",
    "    return K\n",
    "\n",
    "def isConflictFree(S1, S2, R):\n",
    "    # ¿existe algún par (s1, s2) en conflicto (en R)?\n",
    "    for r in R:\n",
    "        if r[0] in S1 and r[1] in S2:\n",
    "            return False\n",
    "        elif r[0] in S2 and r[1] in S1:\n",
    "            return False\n",
    "    return True\n",
    "    "
   ]
  },
  {
   "cell_type": "markdown",
   "metadata": {},
   "source": [
    "```def CFS(V, R)```\n",
    "  * Recibe como argumentos un conjunto de argumentos y relaciones de ataque entre ellos. Retorna un conjunto de subconjuntos libres de conflicto. "
   ]
  },
  {
   "cell_type": "markdown",
   "metadata": {
    "ExecuteTime": {
     "end_time": "2020-10-27T19:06:40.996355Z",
     "start_time": "2020-10-27T19:06:40.986954Z"
    }
   },
   "source": [
    "### **Test Case** \n",
    "   * **Input:** V = {\"a\", \"b\", \"c\"} y R = {(\"a\", \"b\")}\n",
    "   * **Output:** [{'a'}, {'b'}, {'c'}, {'a', 'c'}, {'b', 'c'}]"
   ]
  },
  {
   "cell_type": "code",
   "execution_count": null,
   "metadata": {
    "ExecuteTime": {
     "end_time": "2020-10-28T21:21:59.194010Z",
     "start_time": "2020-10-28T21:21:59.180229Z"
    }
   },
   "outputs": [],
   "source": [
    "def TestCase():\n",
    "    V = {\"a\", \"b\", \"c\"}\n",
    "    R = {(\"a\", \"b\")}\n",
    "    \n",
    "    O = [{'a'}, {'b'}, {'c'}, {'a', 'c'}, {'b', 'c'}, ()]\n",
    "\n",
    "    if CFS(V, R) == O:\n",
    "        return True\n",
    "    else:\n",
    "        return False\n",
    "    \n",
    "print(\"Resultado:\", TestCase())"
   ]
  },
  {
   "cell_type": "markdown",
   "metadata": {},
   "source": [
    "```def iterative_step(CCCF, R)```\n",
    "   * Recibe como argumentos un conjunto de subconjuntos de argumentos CCCF conflict-free y no maximal y relaciones de ataque. Retorna un conjunto de subconjuntos de argumentos libres de conflicto y maximal de CCCF."
   ]
  },
  {
   "cell_type": "markdown",
   "metadata": {
    "ExecuteTime": {
     "end_time": "2020-10-27T18:50:22.403598Z",
     "start_time": "2020-10-27T18:50:22.393627Z"
    }
   },
   "source": [
    "### **Test Case** \n",
    "   * **Input:** CCCF = [{\"a\"}, {\"b\"}, {\"c\"}] y R = {(\"a\", \"b\"), (\"b\", \"c\")}\n",
    "   * **Output:** [{'b'}, {'c', 'a'}]"
   ]
  },
  {
   "cell_type": "code",
   "execution_count": null,
   "metadata": {
    "ExecuteTime": {
     "end_time": "2020-10-28T21:22:06.371815Z",
     "start_time": "2020-10-28T21:22:06.362657Z"
    }
   },
   "outputs": [],
   "source": [
    "def TestCase():\n",
    "    CCCF =  [{\"a\"}, {\"b\"}, {\"c\"}] \n",
    "    R = {(\"a\", \"b\"), (\"b\", \"c\")}\n",
    "    \n",
    "    CCCFp = [{'b'}, {'c', 'a'}]\n",
    "\n",
    "    if iterative_step(CCCF, R) == CCCFp:\n",
    "        return True\n",
    "    else:\n",
    "        return False\n",
    "    \n",
    "print(\"Resultado:\", TestCase())"
   ]
  },
  {
   "cell_type": "markdown",
   "metadata": {},
   "source": [
    "### **Test Case** \n",
    "   * **Input:** S1 = {\"a\", \"b\", \"c\"}, S2 = {\"d\", \"a\", \"c\", \"e\"} y R = {(\"e\", \"f\")}\n",
    "   * **Output:** True"
   ]
  },
  {
   "cell_type": "code",
   "execution_count": null,
   "metadata": {
    "ExecuteTime": {
     "end_time": "2020-10-28T21:22:10.994627Z",
     "start_time": "2020-10-28T21:22:10.982799Z"
    }
   },
   "outputs": [],
   "source": [
    "def TestCase():\n",
    "    CCCF = [{'d', 'b'}, {'d', 'c'}, {'d', 'a'}, {'c', 'a'}]\n",
    "    R = {(\"a\", \"b\"), (\"b\", \"c\")}\n",
    "    \n",
    "    CCCFp = [{'d', 'b'}, {'d', 'c', 'a'}]\n",
    "\n",
    "    if iterative_step(CCCF, R) == CCCFp:\n",
    "        return True\n",
    "    else:\n",
    "        return False\n",
    "    \n",
    "print(\"Resultado:\", TestCase())"
   ]
  },
  {
   "cell_type": "markdown",
   "metadata": {},
   "source": [
    "```def isConflictFree(S1, S2, R)```\n",
    "* Recibe como argumentos dos conjuntos de argumentos y relaciones de ataque. Retorna True si la union de ambos conjuntos es libre de conflictos y False caso contrario."
   ]
  },
  {
   "cell_type": "markdown",
   "metadata": {
    "ExecuteTime": {
     "end_time": "2020-10-27T18:17:25.215726Z",
     "start_time": "2020-10-27T18:17:25.207033Z"
    }
   },
   "source": [
    "### **Test Case** \n",
    "   * **Input:** S1 = {\"a\", \"b\", \"c\"}, S2 = {\"d\", \"a\", \"c\", \"e\"} y R = {(\"a\", \"b\"), (\"b\", \"c\")}\n",
    "   * **Output:** False"
   ]
  },
  {
   "cell_type": "code",
   "execution_count": null,
   "metadata": {
    "ExecuteTime": {
     "end_time": "2020-10-28T21:22:13.692672Z",
     "start_time": "2020-10-28T21:22:13.681394Z"
    }
   },
   "outputs": [],
   "source": [
    "def TestCase():\n",
    "    S1 = {\"a\", \"b\", \"c\"}\n",
    "    S2 = {\"d\", \"a\", \"c\" \"e\"}\n",
    "    \n",
    "    R = {(\"a\", \"b\"), (\"b\", \"c\")}\n",
    "    \n",
    "    if isConflictFree(S1, S2, R) == False:\n",
    "        return True\n",
    "    else:\n",
    "        return False\n",
    "    \n",
    "print(\"Resultado:\", TestCase())"
   ]
  },
  {
   "cell_type": "markdown",
   "metadata": {},
   "source": [
    "### **Test Case** \n",
    "   * **Input:** S1 = {\"a\", \"b\", \"c\"}, S2 = {\"d\", \"a\", \"c\", \"e\"} y R = {(\"e\", \"f\")}\n",
    "   * **Output:** True"
   ]
  },
  {
   "cell_type": "code",
   "execution_count": null,
   "metadata": {
    "ExecuteTime": {
     "end_time": "2020-10-28T21:22:15.173846Z",
     "start_time": "2020-10-28T21:22:15.159565Z"
    }
   },
   "outputs": [],
   "source": [
    "def TestCase():\n",
    "    S1 = {\"a\", \"b\", \"c\"}\n",
    "    S2 = {\"d\", \"a\", \"c\", \"e\"}\n",
    "    \n",
    "    R = {(\"e\", \"f\")}\n",
    "    \n",
    "    if isConflictFree(S1, S2, R) == True:\n",
    "        return True\n",
    "    else:\n",
    "        return False\n",
    "    \n",
    "print(\"Resultado:\", TestCase())"
   ]
  },
  {
   "cell_type": "markdown",
   "metadata": {},
   "source": [
    "### **Test Case** \n",
    "   * **Input:** S1 = {\"a\", \"c\"}, S2 = {\"d\", \"a\"} y R = {(\"a\", \"b\"), (\"b\", \"c\")}\n",
    "   * **Output:** True"
   ]
  },
  {
   "cell_type": "code",
   "execution_count": null,
   "metadata": {
    "ExecuteTime": {
     "end_time": "2020-10-28T21:22:16.387799Z",
     "start_time": "2020-10-28T21:22:16.375098Z"
    }
   },
   "outputs": [],
   "source": [
    "def TestCase():\n",
    "    S1 = {\"a\", \"c\"}\n",
    "    S2 = {\"d\", \"a\"}\n",
    "    \n",
    "    R = {(\"a\", \"b\"), (\"b\", \"c\")}\n",
    "    \n",
    "    if isConflictFree(S1, S2, R) == True:\n",
    "        return True\n",
    "    else:\n",
    "        return False\n",
    "    \n",
    "print(\"Resultado:\", TestCase())"
   ]
  },
  {
   "cell_type": "markdown",
   "metadata": {
    "ExecuteTime": {
     "end_time": "2020-10-27T18:26:19.468345Z",
     "start_time": "2020-10-27T18:26:19.460076Z"
    }
   },
   "source": [
    "# EJEMPLO"
   ]
  },
  {
   "cell_type": "code",
   "execution_count": null,
   "metadata": {
    "ExecuteTime": {
     "end_time": "2020-10-29T11:27:51.077994Z",
     "start_time": "2020-10-29T11:27:51.057650Z"
    }
   },
   "outputs": [],
   "source": [
    "V = {\"a\", \"b\", \"c\", \"d\"}\n",
    "R = {(\"a\", \"b\"), (\"b\", \"c\")}\n",
    "\n",
    "CFS(V, R)\n",
    "\n",
    "# SOL: {a}, {b}, {c}, {d}, {a, c}, {a, d}, {b, d}, {d, c}, {a, c, d}, {}"
   ]
  },
  {
   "cell_type": "code",
   "execution_count": null,
   "metadata": {
    "ExecuteTime": {
     "end_time": "2020-10-29T11:45:48.456547Z",
     "start_time": "2020-10-29T11:45:05.740962Z"
    }
   },
   "outputs": [],
   "source": [
    "V = {\"a\", \"b\", \"c\", \"d\", \"e\", \"f\", \"g\", \"h\", \"i\", \"j\"}\n",
    "R = {(\"a\", \"b\"), (\"b\", \"e\")}\n",
    "CFS(V, R)"
   ]
  },
  {
   "cell_type": "code",
   "execution_count": null,
   "metadata": {
    "ExecuteTime": {
     "end_time": "2020-10-29T11:31:13.471959Z",
     "start_time": "2020-10-29T11:31:13.372559Z"
    }
   },
   "outputs": [],
   "source": [
    "# CANTIDAD DE ARGUMENTOS Y DENSIDAD\n",
    "#from sintetic import *\n",
    "#from agent import *\n"
   ]
  },
  {
   "cell_type": "code",
   "execution_count": null,
   "metadata": {
    "ExecuteTime": {
     "end_time": "2020-10-28T21:22:33.864828Z",
     "start_time": "2020-10-28T21:22:33.840208Z"
    }
   },
   "outputs": [],
   "source": [
    "# Creo un agente\n",
    "#agents = createAgents(numAg=1, numMaxGoals=2, numAlt=2, numMaxAp=20, numMaxEp=20, attacksDensity=0.25)\n",
    "\n",
    "#for a in agents:\n",
    "#    A = a.allArguments()\n",
    "#    R = a.get_Re()\n",
    "#    Ap = a._Agent__Ap\n",
    "#    Ae = a._Agent__Ae"
   ]
  },
  {
   "cell_type": "code",
   "execution_count": null,
   "metadata": {},
   "outputs": [],
   "source": [
    "from time import perf_counter"
   ]
  },
  {
   "cell_type": "code",
   "execution_count": null,
   "metadata": {
    "ExecuteTime": {
     "start_time": "2020-10-28T20:39:48.034Z"
    }
   },
   "outputs": [],
   "source": [
    "# 40 Argumentos (25% de ataques)\n",
    "Ap = [('ap6Ag1', 'P', 'X2', ['ae19Ag1', 'ae15Ag1', 'ae2Ag1'], 0.94637647940315, []), ('ap9Ag1', 'C', 'X1', ['ae4Ag1', 'ae17Ag1'], 0.1280579029783604, []), ('ap15Ag1', 'P', 'X2', ['ae5Ag1', 'ae10Ag1', 'ae4Ag1', 'ae20Ag1', 'ae16Ag1'], 0.569976708343591, []), ('ap7Ag1', 'P', 'X1', ['ae7Ag1', 'ae11Ag1', 'ae9Ag1', 'ae18Ag1', 'ae4Ag1'], 0.6290189042614863, []), ('ap2Ag1', 'C', 'X2', ['ae11Ag1', 'ae7Ag1', 'ae6Ag1', 'ae17Ag1'], 0.8939989608727582, []), ('ap5Ag1', 'C', 'X2', ['ae15Ag1', 'ae12Ag1', 'ae2Ag1', 'ae4Ag1', 'ae14Ag1'], 0.2782506788817197, []), ('ap8Ag1', 'P', 'X2', ['ae4Ag1', 'ae5Ag1', 'ae17Ag1', 'ae12Ag1', 'ae15Ag1', 'ae8Ag1'], 0.7878811167019851, []), ('ap16Ag1', 'P', 'X1', ['ae7Ag1', 'ae16Ag1', 'ae13Ag1', 'ae17Ag1', 'ae4Ag1', 'ae3Ag1'], 0.40891914376572347, []), ('ap18Ag1', 'C', 'X2', ['ae13Ag1', 'ae4Ag1'], 0.9087328585588742, []), ('ap11Ag1', 'C', 'X1', ['ae8Ag1', 'ae20Ag1', 'ae11Ag1', 'ae14Ag1', 'ae13Ag1'], 0.9174669122750402, []), ('ap1Ag1', 'P', 'X2', ['ae14Ag1', 'ae11Ag1', 'ae16Ag1', 'ae18Ag1', 'ae1Ag1', 'ae17Ag1', 'ae6Ag1'], 0.6887603342704782, []), ('ap10Ag1', 'C', 'X2', ['ae3Ag1', 'ae18Ag1'], 0.4627954325822833, []), ('ap12Ag1', 'P', 'X1', ['ae20Ag1', 'ae16Ag1', 'ae6Ag1', 'ae18Ag1', 'ae10Ag1', 'ae13Ag1', 'ae1Ag1'], 0.19908658748236863, []), ('ap13Ag1', 'P', 'X1', ['ae18Ag1', 'ae6Ag1'], 0.42810801929193254, []), ('ap17Ag1', 'P', 'X1', ['ae11Ag1', 'ae13Ag1', 'ae12Ag1'], 0.4546073647605927, []), ('ap19Ag1', 'P', 'X1', ['ae16Ag1', 'ae6Ag1', 'ae2Ag1', 'ae4Ag1', 'ae15Ag1'], 0.4631970856783646, []), ('ap3Ag1', 'P', 'X1', ['ae6Ag1', 'ae2Ag1', 'ae12Ag1', 'ae18Ag1', 'ae19Ag1'], 0.5995884750852466, []), ('ap14Ag1', 'C', 'X2', ['ae5Ag1'], 0.12338124952120622, []), ('ap4Ag1', 'C', 'X2', ['ae1Ag1', 'ae19Ag1', 'ae15Ag1', 'ae11Ag1', 'ae10Ag1'], 0.25609999913722925, []), ('ap20Ag1', 'C', 'X2', ['ae14Ag1', 'ae1Ag1', 'ae5Ag1', 'ae8Ag1', 'ae16Ag1'], 0.9535953742924612, [])]\n",
    "Ae = [('ae8Ag1', ['ae2Ag1', 'ae16Ag1', 'ae17Ag1'], []), ('ae14Ag1', ['ae2Ag1', 'ae18Ag1', 'ae20Ag1', 'ae13Ag1'], []), ('ae11Ag1', ['ae16Ag1', 'ae10Ag1'], []), ('ae15Ag1', ['ae12Ag1', 'ae10Ag1'], []), ('ae16Ag1', ['ae19Ag1', 'ae7Ag1', 'ae3Ag1', 'ae13Ag1'], []), ('ae18Ag1', ['ae13Ag1', 'ae6Ag1', 'ae7Ag1', 'ae2Ag1'], []), ('ae6Ag1', ['ae12Ag1', 'ae8Ag1', 'ae2Ag1', 'ae17Ag1', 'ae19Ag1', 'ae13Ag1', 'ae15Ag1'], []), ('ae4Ag1', ['ae3Ag1', 'ae14Ag1'], []), ('ae13Ag1', ['ae12Ag1', 'ae2Ag1', 'ae3Ag1'], []), ('ae2Ag1', ['ae20Ag1', 'ae1Ag1', 'ae7Ag1'], []), ('ae3Ag1', ['ae2Ag1', 'ae6Ag1'], []), ('ae9Ag1', ['ae18Ag1'], []), ('ae7Ag1', ['ae1Ag1', 'ae20Ag1', 'ae13Ag1', 'ae6Ag1'], []), ('ae10Ag1', [], []), ('ae17Ag1', ['ae4Ag1', 'ae15Ag1', 'ae7Ag1', 'ae10Ag1'], []), ('ae19Ag1', ['ae17Ag1', 'ae8Ag1', 'ae3Ag1'], []), ('ae20Ag1', ['ae16Ag1', 'ae3Ag1', 'ae13Ag1'], []), ('ae5Ag1', ['ae3Ag1', 'ae2Ag1', 'ae13Ag1', 'ae7Ag1', 'ae15Ag1', 'ae17Ag1'], []), ('ae12Ag1', ['ae17Ag1'], []), ('ae1Ag1', ['ae14Ag1', 'ae15Ag1', 'ae5Ag1', 'ae4Ag1', 'ae12Ag1'], [])]\n",
    "\n",
    "A1 = {'ae8Ag1', 'ae14Ag1', 'ae11Ag1', 'ap7Ag1', 'ap3Ag1', 'ap18Ag1', 'ae7Ag1', 'ap6Ag1', 'ap9Ag1', 'ae15Ag1', 'ae6Ag1', 'ae4Ag1', 'ap8Ag1', 'ae2Ag1', 'ae9Ag1', 'ap19Ag1', 'ap10Ag1', 'ae10Ag1', 'ae20Ag1', 'ap4Ag1', 'ap20Ag1', 'ae1Ag1', 'ae16Ag1', 'ap2Ag1', 'ap5Ag1', 'ap16Ag1', 'ae3Ag1', 'ap1Ag1', 'ap17Ag1', 'ae17Ag1', 'ae19Ag1', 'ae12Ag1', 'ap14Ag1', 'ap15Ag1', 'ae18Ag1', 'ae13Ag1', 'ap11Ag1', 'ap12Ag1', 'ap13Ag1', 'ae5Ag1'}\n",
    "R1 = {('ae7Ag1', 'ap16Ag1'), ('ae20Ag1', 'ae2Ag1'), ('ae4Ag1', 'ae17Ag1'), ('ae15Ag1', 'ap5Ag1'), ('ae12Ag1', 'ae6Ag1'), ('ae3Ag1', 'ae5Ag1'), ('ae14Ag1', 'ae1Ag1'), ('ae14Ag1', 'ap20Ag1'), ('ae12Ag1', 'ae13Ag1'), ('ae2Ag1', 'ae5Ag1'), ('ae16Ag1', 'ap16Ag1'), ('ae15Ag1', 'ae17Ag1'), ('ae16Ag1', 'ap19Ag1'), ('ae6Ag1', 'ap19Ag1'), ('ae2Ag1', 'ae14Ag1'), ('ae1Ag1', 'ap4Ag1'), ('ae16Ag1', 'ae20Ag1'), ('ae12Ag1', 'ap5Ag1'), ('ae7Ag1', 'ae17Ag1'), ('ae19Ag1', 'ap4Ag1'), ('ae1Ag1', 'ae2Ag1'), ('ae2Ag1', 'ae13Ag1'), ('ae8Ag1', 'ae6Ag1'), ('ae2Ag1', 'ap19Ag1'), ('ae20Ag1', 'ap12Ag1'), ('ae2Ag1', 'ae6Ag1'), ('ae2Ag1', 'ae3Ag1'), ('ae7Ag1', 'ap7Ag1'), ('ae5Ag1', 'ap15Ag1'), ('ae11Ag1', 'ap2Ag1'), ('ae7Ag1', 'ae2Ag1'), ('ae13Ag1', 'ap16Ag1'), ('ae14Ag1', 'ap1Ag1'), ('ae16Ag1', 'ap12Ag1'), ('ae19Ag1', 'ae16Ag1'), ('ae6Ag1', 'ap3Ag1'), ('ae15Ag1', 'ap4Ag1'), ('ae17Ag1', 'ae12Ag1'), ('ae6Ag1', 'ap12Ag1'), ('ae1Ag1', 'ae7Ag1'), ('ae13Ag1', 'ae5Ag1'), ('ae18Ag1', 'ap13Ag1'), ('ae20Ag1', 'ae7Ag1'), ('ae2Ag1', 'ap3Ag1'), ('ae18Ag1', 'ae14Ag1'), ('ae13Ag1', 'ae18Ag1'), ('ae17Ag1', 'ap16Ag1'), ('ae11Ag1', 'ap1Ag1'), ('ae4Ag1', 'ap8Ag1'), ('ae3Ag1', 'ae20Ag1'), ('ae11Ag1', 'ap17Ag1'), ('ae1Ag1', 'ap20Ag1'), ('ae17Ag1', 'ae6Ag1'), ('ae12Ag1', 'ap3Ag1'), ('ae5Ag1', 'ap8Ag1'), ('ae16Ag1', 'ap1Ag1'), ('ae7Ag1', 'ae5Ag1'), ('ae8Ag1', 'ap11Ag1'), ('ae19Ag1', 'ap6Ag1'), ('ae13Ag1', 'ap18Ag1'), ('ae11Ag1', 'ap7Ag1'), ('ae17Ag1', 'ap8Ag1'), ('ae11Ag1', 'ap4Ag1'), ('ae15Ag1', 'ae5Ag1'), ('ae7Ag1', 'ap2Ag1'), ('ae7Ag1', 'ae16Ag1'), ('ae4Ag1', 'ap19Ag1'), ('ae20Ag1', 'ap11Ag1'), ('ae15Ag1', 'ae1Ag1'), ('ae6Ag1', 'ae18Ag1'), ('ae11Ag1', 'ap11Ag1'), ('ae3Ag1', 'ae16Ag1'), ('ae18Ag1', 'ap1Ag1'), ('ae9Ag1', 'ap7Ag1'), ('ae18Ag1', 'ap3Ag1'), ('ae15Ag1', 'ap6Ag1'), ('ae5Ag1', 'ae1Ag1'), ('ae13Ag1', 'ae20Ag1'), ('ae5Ag1', 'ap20Ag1'), ('ae3Ag1', 'ap10Ag1'), ('ae19Ag1', 'ae6Ag1'), ('ae6Ag1', 'ap13Ag1'), ('ae8Ag1', 'ap20Ag1'), ('ae1Ag1', 'ap1Ag1'), ('ae18Ag1', 'ap12Ag1'), ('ae3Ag1', 'ae4Ag1'), ('ae10Ag1', 'ap15Ag1'), ('ae2Ag1', 'ap5Ag1'), ('ae10Ag1', 'ap12Ag1'), ('ae5Ag1', 'ap14Ag1'), ('ae6Ag1', 'ae3Ag1'), ('ae13Ag1', 'ap12Ag1'), ('ae2Ag1', 'ae8Ag1'), ('ae18Ag1', 'ap10Ag1'), ('ae17Ag1', 'ap1Ag1'), ('ae12Ag1', 'ap8Ag1'), ('ae4Ag1', 'ap15Ag1'), ('ae4Ag1', 'ae1Ag1'), ('ae4Ag1', 'ap9Ag1'), ('ae1Ag1', 'ap12Ag1'), ('ae20Ag1', 'ae14Ag1'), ('ae18Ag1', 'ap7Ag1'), ('ae15Ag1', 'ap19Ag1'), ('ae14Ag1', 'ae4Ag1'), ('ae10Ag1', 'ae17Ag1'), ('ae20Ag1', 'ap15Ag1'), ('ae13Ag1', 'ap17Ag1'), ('ae17Ag1', 'ae19Ag1'), ('ae13Ag1', 'ae6Ag1'), ('ae4Ag1', 'ap16Ag1'), ('ae6Ag1', 'ap1Ag1'), ('ae16Ag1', 'ae8Ag1'), ('ae2Ag1', 'ap6Ag1'), ('ae4Ag1', 'ap18Ag1'), ('ae18Ag1', 'ae9Ag1'), ('ae13Ag1', 'ae7Ag1'), ('ae15Ag1', 'ap8Ag1'), ('ae4Ag1', 'ap5Ag1'), ('ae10Ag1', 'ap4Ag1'), ('ae17Ag1', 'ae5Ag1'), ('ae7Ag1', 'ae18Ag1'), ('ae8Ag1', 'ae19Ag1'), ('ae3Ag1', 'ae13Ag1'), ('ae12Ag1', 'ap17Ag1'), ('ae13Ag1', 'ae16Ag1'), ('ae12Ag1', 'ae1Ag1'), ('ae19Ag1', 'ap3Ag1'), ('ae17Ag1', 'ap9Ag1'), ('ae14Ag1', 'ap11Ag1'), ('ae16Ag1', 'ap15Ag1'), ('ae12Ag1', 'ae15Ag1'), ('ae2Ag1', 'ae18Ag1'), ('ae13Ag1', 'ap11Ag1'), ('ae16Ag1', 'ae11Ag1'), ('ae6Ag1', 'ae7Ag1'), ('ae4Ag1', 'ap7Ag1'), ('ae15Ag1', 'ae6Ag1'), ('ae14Ag1', 'ap5Ag1'), ('ae3Ag1', 'ap16Ag1'), ('ae17Ag1', 'ae8Ag1'), ('ae8Ag1', 'ap8Ag1'), ('ae16Ag1', 'ap20Ag1'), ('ae10Ag1', 'ae15Ag1'), ('ae6Ag1', 'ap2Ag1'), ('ae17Ag1', 'ap2Ag1'), ('ae10Ag1', 'ae11Ag1'), ('ae13Ag1', 'ae14Ag1'), ('ae3Ag1', 'ae19Ag1')}\n",
    "\n",
    "\"\"\"\n",
    "ag = Agent(name=\"Ag\", K=set(), G={(\"g1\", 0.8), (\"g2\", 0.6)}, X={\"X1\", \"X2\"}, Ae=Ae, Ap=Ap, np=0.25)\n",
    "\n",
    "# POWERSET\n",
    "ti = perf_counter()\n",
    "p = powerset(A1)\n",
    "tf = perf_counter()\n",
    "print(\"Time Powerset:\", tf - ti)\n",
    "\n",
    "# CFS Original\n",
    "ti = perf_counter()\n",
    "q = ag.compute_cfs()\n",
    "tf = perf_counter()\n",
    "print(\"Time CFS Original:\", tf - ti)\n",
    "\"\"\"\n",
    "#CFS Nueva\n",
    "ti = perf_counter()\n",
    "q = CFS(A1, R1)\n",
    "tf = perf_counter()\n",
    "print(\"Time CFS Nueva:\", tf - ti)"
   ]
  },
  {
   "cell_type": "code",
   "execution_count": null,
   "metadata": {
    "ExecuteTime": {
     "start_time": "2020-10-28T20:16:33.383Z"
    }
   },
   "outputs": [],
   "source": [
    "# 22 Argumentos (25% de ataques)\n",
    "Ap = [('ap6Ag1', 'C', 'X2', ['ae6Ag1', 'ae1Ag1', 'ae13Ag1'], 0.35029664283257234, []), ('ap7Ag1', 'C', 'X1', ['ae4Ag1', 'ae8Ag1'], 0.15845834714707818, []), ('ap2Ag1', 'C', 'X1', ['ae2Ag1'], 0.9353631111847794, []), ('ap5Ag1', 'P', 'X2', ['ae15Ag1', 'ae12Ag1', 'ae1Ag1', 'ae8Ag1'], 0.02701299460010631, []), ('ap1Ag1', 'C', 'X2', ['ae2Ag1', 'ae11Ag1', 'ae3Ag1'], 0.35873436877601006, []), ('ap3Ag1', 'C', 'X2', ['ae3Ag1', 'ae5Ag1'], 0.3439633586489437, []), ('ap4Ag1', 'P', 'X2', ['ae6Ag1', 'ae7Ag1', 'ae4Ag1'], 0.9226597782167792, [])]\n",
    "Ae = [('ae8Ag1', ['ae1Ag1'], []), ('ae14Ag1', ['ae7Ag1', 'ae2Ag1', 'ae6Ag1'], []), ('ae11Ag1', ['ae6Ag1'], []), ('ae15Ag1', ['ae9Ag1', 'ae3Ag1', 'ae11Ag1'], []), ('ae6Ag1', [], []), ('ae4Ag1', ['ae9Ag1', 'ae15Ag1', 'ae14Ag1'], []), ('ae13Ag1', ['ae12Ag1', 'ae7Ag1', 'ae15Ag1'], []), ('ae2Ag1', ['ae6Ag1', 'ae1Ag1'], []), ('ae3Ag1', [], []), ('ae9Ag1', ['ae6Ag1', 'ae12Ag1'], []), ('ae7Ag1', ['ae11Ag1', 'ae2Ag1', 'ae8Ag1'], []), ('ae10Ag1', ['ae4Ag1', 'ae2Ag1', 'ae14Ag1', 'ae8Ag1', 'ae3Ag1', 'ae11Ag1'], []), ('ae5Ag1', ['ae7Ag1', 'ae8Ag1'], []), ('ae12Ag1', ['ae8Ag1'], []), ('ae1Ag1', ['ae10Ag1', 'ae9Ag1', 'ae7Ag1', 'ae15Ag1'], [])]\n",
    "A2 = {'ae8Ag1', 'ae14Ag1', 'ae11Ag1', 'ap7Ag1', 'ap3Ag1', 'ae7Ag1', 'ap6Ag1', 'ae15Ag1', 'ae6Ag1', 'ae4Ag1', 'ae2Ag1', 'ae9Ag1', 'ae10Ag1', 'ap4Ag1', 'ae1Ag1', 'ap2Ag1', 'ap5Ag1', 'ae3Ag1', 'ap1Ag1', 'ae12Ag1', 'ae13Ag1', 'ae5Ag1'}\n",
    "R2 = {('ae11Ag1', 'ae7Ag1'), ('ae7Ag1', 'ae14Ag1'), ('ae4Ag1', 'ae10Ag1'), ('ae2Ag1', 'ap1Ag1'), ('ae2Ag1', 'ae10Ag1'), ('ae15Ag1', 'ap5Ag1'), ('ae8Ag1', 'ae12Ag1'), ('ae11Ag1', 'ap1Ag1'), ('ae6Ag1', 'ap6Ag1'), ('ae12Ag1', 'ae13Ag1'), ('ae14Ag1', 'ae10Ag1'), ('ae1Ag1', 'ae8Ag1'), ('ae8Ag1', 'ae10Ag1'), ('ae2Ag1', 'ae7Ag1'), ('ae3Ag1', 'ae10Ag1'), ('ae6Ag1', 'ae11Ag1'), ('ae9Ag1', 'ae4Ag1'), ('ae7Ag1', 'ae5Ag1'), ('ae6Ag1', 'ae9Ag1'), ('ae15Ag1', 'ae4Ag1'), ('ae10Ag1', 'ae1Ag1'), ('ae9Ag1', 'ae1Ag1'), ('ae1Ag1', 'ap6Ag1'), ('ae3Ag1', 'ap1Ag1'), ('ae8Ag1', 'ae7Ag1'), ('ae3Ag1', 'ap3Ag1'), ('ae2Ag1', 'ae14Ag1'), ('ae6Ag1', 'ae2Ag1'), ('ae7Ag1', 'ae1Ag1'), ('ae7Ag1', 'ae13Ag1'), ('ae12Ag1', 'ap5Ag1'), ('ae1Ag1', 'ae2Ag1'), ('ae6Ag1', 'ap4Ag1'), ('ae4Ag1', 'ap7Ag1'), ('ae1Ag1', 'ap5Ag1'), ('ae2Ag1', 'ap2Ag1'), ('ae5Ag1', 'ap3Ag1'), ('ae8Ag1', 'ap5Ag1'), ('ae15Ag1', 'ae1Ag1'), ('ae12Ag1', 'ae9Ag1'), ('ae9Ag1', 'ae15Ag1'), ('ae7Ag1', 'ap4Ag1'), ('ae3Ag1', 'ae15Ag1'), ('ae11Ag1', 'ae10Ag1'), ('ae13Ag1', 'ap6Ag1'), ('ae6Ag1', 'ae14Ag1'), ('ae11Ag1', 'ae15Ag1'), ('ae14Ag1', 'ae4Ag1'), ('ae8Ag1', 'ap7Ag1'), ('ae15Ag1', 'ae13Ag1'), ('ae4Ag1', 'ap4Ag1'), ('ae8Ag1', 'ae5Ag1')}\n",
    "\n",
    "\"\"\"\n",
    "ag = Agent(name=\"Ag\", K=set(), G={(\"g1\", 0.8), (\"g2\", 0.6)}, X={\"X1\", \"X2\"}, Ae=Ae, Ap=Ap, np=0.25)\n",
    "\n",
    "# POWERSET\n",
    "ti = perf_counter()\n",
    "p = powerset(A2)\n",
    "tf = perf_counter()\n",
    "print(\"Time Powerset:\", tf - ti)\n",
    "\n",
    "# CFS Original\n",
    "ti = perf_counter()\n",
    "q = ag.compute_cfs()\n",
    "tf = perf_counter()\n",
    "print(\"Time CFS Original:\", tf - ti)\n",
    "\n",
    "\"\"\"\n",
    "# CFS Nueva\n",
    "ti = perf_counter()\n",
    "q = CFS(A2, R2)\n",
    "tf = perf_counter()\n",
    "print(\"Time CFS Nueva:\", tf - ti)"
   ]
  },
  {
   "cell_type": "code",
   "execution_count": null,
   "metadata": {
    "ExecuteTime": {
     "start_time": "2020-10-28T21:27:58.150Z"
    }
   },
   "outputs": [],
   "source": [
    "# 12 Argumentos (25 % de ataques)\n",
    "Ap = [('ap6Ag1', 'P', 'X2', [], 0.7536013251226841, []), ('ap9Ag1', 'P', 'X1', [], 0.48439234116876106, []), ('ap7Ag1', 'C', 'X1', ['ae1Ag1'], 0.6600950162647415, []), ('ap2Ag1', 'P', 'X2', [], 0.49215089042467397, []), ('ap5Ag1', 'C', 'X1', ['ae1Ag1'], 0.6955054737254868, []), ('ap8Ag1', 'P', 'X2', [], 0.1310648132232607, []), ('ap11Ag1', 'P', 'X2', [], 0.7601552672424233, []), ('ap1Ag1', 'P', 'X2', [], 0.23738601628249034, []), ('ap10Ag1', 'P', 'X2', ['ae1Ag1'], 0.17742722581731207, []), ('ap3Ag1', 'C', 'X1', [], 0.3959577103202063, []), ('ap4Ag1', 'P', 'X2', [], 0.7041207927971513, [])]\n",
    "Ae = [('ae1Ag1', [], [])]\n",
    "A3 = {'ap6Ag1', 'ap9Ag1', 'ap7Ag1', 'ap2Ag1', 'ap5Ag1', 'ap8Ag1', 'ap11Ag1', 'ap1Ag1', 'ap10Ag1', 'ap3Ag1', 'ap4Ag1', 'ae1Ag1'}\n",
    "R3 = {('ae1Ag1', 'ap7Ag1'), ('ae1Ag1', 'ap10Ag1'), ('ae1Ag1', 'ap5Ag1')}\n",
    "\n",
    "\"\"\"\n",
    "ag = Agent(name=\"Ag\", K=set(), G={(\"g1\", 0.8), (\"g2\", 0.6)}, X={\"X1\", \"X2\"}, Ae=Ae, Ap=Ap, np=0.25)\n",
    "\n",
    "# POWERSET\n",
    "ti = perf_counter()\n",
    "p = powerset(A3)\n",
    "tf = perf_counter()\n",
    "print(\"Time Powerset:\", tf - ti)\n",
    "\n",
    "# CFS Original\n",
    "ti = perf_counter()\n",
    "q = ag.compute_cfs()\n",
    "tf = perf_counter()\n",
    "print(\"Time CFS Original:\", tf - ti)\n",
    "\"\"\"\n",
    "# CFS Nueva\n",
    "ti = perf_counter()\n",
    "q = CFS(A3, R3)\n",
    "tf = perf_counter()\n",
    "print(\"Time CFS Nueva:\", tf - ti)"
   ]
  },
  {
   "cell_type": "code",
   "execution_count": null,
   "metadata": {
    "ExecuteTime": {
     "end_time": "2020-10-29T11:41:26.999458Z",
     "start_time": "2020-10-29T11:39:31.538094Z"
    }
   },
   "outputs": [],
   "source": [
    "A3 = {'ap6Ag1', 'ap9Ag1', 'ap7Ag1', 'ap2Ag1', 'ap5Ag1', 'ap8Ag1', 'ap11Ag1', 'ap1Ag1', 'ap10Ag1', 'ap3Ag1', 'ap4Ag1', 'ae1Ag1'}\n",
    "R3 = {('ae1Ag1', 'ap7Ag1'), ('ae1Ag1', 'ap10Ag1'), ('ae1Ag1', 'ap5Ag1')}\n",
    "ti = perf_counter()\n",
    "q = CFS(A3, R3)\n",
    "tf = perf_counter()\n",
    "print(\"Time CFS Nueva:\", tf - ti)"
   ]
  },
  {
   "cell_type": "code",
   "execution_count": null,
   "metadata": {},
   "outputs": [],
   "source": []
  }
 ],
 "metadata": {
  "hide_input": false,
  "kernelspec": {
   "display_name": "Python 3",
   "language": "python",
   "name": "python3"
  },
  "language_info": {
   "codemirror_mode": {
    "name": "ipython",
    "version": 3
   },
   "file_extension": ".py",
   "mimetype": "text/x-python",
   "name": "python",
   "nbconvert_exporter": "python",
   "pygments_lexer": "ipython3",
   "version": "3.6.9"
  },
  "toc": {
   "base_numbering": 1,
   "nav_menu": {},
   "number_sections": true,
   "sideBar": true,
   "skip_h1_title": false,
   "title_cell": "Table of Contents",
   "title_sidebar": "Contents",
   "toc_cell": false,
   "toc_position": {},
   "toc_section_display": true,
   "toc_window_display": false
  },
  "varInspector": {
   "cols": {
    "lenName": 16,
    "lenType": 16,
    "lenVar": 40
   },
   "kernels_config": {
    "python": {
     "delete_cmd_postfix": "",
     "delete_cmd_prefix": "del ",
     "library": "var_list.py",
     "varRefreshCmd": "print(var_dic_list())"
    },
    "r": {
     "delete_cmd_postfix": ") ",
     "delete_cmd_prefix": "rm(",
     "library": "var_list.r",
     "varRefreshCmd": "cat(var_dic_list()) "
    }
   },
   "types_to_exclude": [
    "module",
    "function",
    "builtin_function_or_method",
    "instance",
    "_Feature"
   ],
   "window_display": false
  }
 },
 "nbformat": 4,
 "nbformat_minor": 4
}
