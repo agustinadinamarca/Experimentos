{
 "cells": [
  {
   "cell_type": "code",
   "execution_count": null,
   "metadata": {},
   "outputs": [],
   "source": [
    "from exp_0 import *\n",
    "from exp_1 import *\n",
    "\n",
    "import ipywidgets as widgets\n",
    "from IPython.display import display"
   ]
  },
  {
   "cell_type": "markdown",
   "metadata": {},
   "source": [
    "# Multi-Agent Argumentation based Negociation Experiments"
   ]
  },
  {
   "cell_type": "markdown",
   "metadata": {},
   "source": [
    "### Create agents and run experiment without ignorance relation"
   ]
  },
  {
   "cell_type": "markdown",
   "metadata": {},
   "source": [
    "#### Execute the following line of code and use the widgets for setting parameters:\n",
    "    1. Agents: number of agents in the negociation\n",
    "    2. MaxAp: maximum number of practical arguments for each agent\n",
    "    3. MaxAe: maximum number of epistemic arguments for each agent\n",
    "    4. numMaxGoals: maximun number of goals for each agent\n",
    "    5. numAlt: number of alternatives to negociate"
   ]
  },
  {
   "cell_type": "code",
   "execution_count": null,
   "metadata": {},
   "outputs": [],
   "source": [
    "def f(Agents, MaxAp, MaxAe, NumX, NumG):\n",
    "    exp(numAg=Agents, numMaxGoals=NumG, numAlt=NumX, numMaxAp=MaxAp, numMaxEp=MaxAe)\n",
    "    return \"Agents created. See exp-example.txt and result-optimo.txt file for details.\"\n",
    "\n",
    "widgets.interact_manual(f, Agents=widgets.IntSlider(min=2, max=100, step=1, value=3),\n",
    "                    MaxAp=widgets.IntSlider(min=2, max=10, step=1, value=5),\n",
    "                    MaxAe=widgets.IntSlider(min=2, max=10, step=1, value=3),\n",
    "                    NumX=widgets.IntSlider(min=2, max=10, step=1, value=3),\n",
    "                    NumG=widgets.IntSlider(min=1, max=5, step=1, value=2)\n",
    "                );"
   ]
  },
  {
   "cell_type": "markdown",
   "metadata": {},
   "source": [
    "### Run the negociations with ignorance relation"
   ]
  },
  {
   "cell_type": "markdown",
   "metadata": {},
   "source": [
    "#### Execute the following line of code and use the widgets for setting parameters:\n",
    "1. numIter: number of negociations for a given set of parameters\n",
    "2. kinit: number of arguments to process at the begining of the negociation\n",
    "3. kturns: number of arguments to process during the negociation"
   ]
  },
  {
   "cell_type": "code",
   "execution_count": null,
   "metadata": {},
   "outputs": [],
   "source": [
    "def f(numIter, kinit, kturn):\n",
    "    experiment(it=numIter, kinit=kinit, kturn=kturn)\n",
    "    return \"Finished. See metric-d.txt file for details.\"\n",
    "\n",
    "widgets.interact_manual(f, Agents=widgets.IntSlider(min=2, max=100, step=1, value=3),\n",
    "                    numIter=widgets.IntSlider(min=10, max=10000, step=100, value=100),\n",
    "                    kinit=widgets.FloatRangeSlider(value=[0, 35],min=0,max=35,step=5,\n",
    "                    description='k Init:',disabled=False,continuous_update=False,orientation='horizontal',\n",
    "                    readout=True, readout_format='.0f'),\n",
    "                    kturn=widgets.FloatRangeSlider(value=[0, 10],min=0,max=10.0,step=2,description='k Turns:',\n",
    "                    disabled=False,continuous_update=False,orientation='horizontal',readout=True,\n",
    "                    readout_format='.0f')\n",
    "                );"
   ]
  },
  {
   "cell_type": "code",
   "execution_count": null,
   "metadata": {},
   "outputs": [],
   "source": []
  },
  {
   "cell_type": "code",
   "execution_count": null,
   "metadata": {},
   "outputs": [],
   "source": []
  }
 ],
 "metadata": {
  "kernelspec": {
   "display_name": "Python 3",
   "language": "python",
   "name": "python3"
  },
  "language_info": {
   "codemirror_mode": {
    "name": "ipython",
    "version": 3
   },
   "file_extension": ".py",
   "mimetype": "text/x-python",
   "name": "python",
   "nbconvert_exporter": "python",
   "pygments_lexer": "ipython3",
   "version": "3.7.6"
  }
 },
 "nbformat": 4,
 "nbformat_minor": 4
}
